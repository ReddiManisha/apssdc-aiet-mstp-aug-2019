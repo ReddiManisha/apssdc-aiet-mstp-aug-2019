{
 "cells": [
  {
   "cell_type": "markdown",
   "metadata": {},
   "source": [
    "# tasks"
   ]
  },
  {
   "cell_type": "markdown",
   "metadata": {},
   "source": [
    "### Question-1: Prime Number: need to print the series of all prime numbers till N."
   ]
  },
  {
   "cell_type": "code",
   "execution_count": null,
   "metadata": {},
   "outputs": [],
   "source": [
    "# solution for question 1:\n",
    "start = 1\n",
    "n= int(input(\"enternumber\"))\n",
    "print(\"prime numbers between \",start ,\"and\" ,n,\"are:\")\n",
    "for num in range(start,n+1):\n",
    "    if num>1:\n",
    "        for i in range(2,int(num/2)+1):\n",
    "            if(num%i)==0:\n",
    "                break\n",
    "        else :\n",
    "            print(num,end =\" \")\n"
   ]
  },
  {
   "cell_type": "markdown",
   "metadata": {},
   "source": [
    "### Question-2: Count Divisors: You have been given 3 integers - l, r and k. Find how many numbers between l and r (both inclusive) are divisible by k."
   ]
  },
  {
   "cell_type": "code",
   "execution_count": null,
   "metadata": {},
   "outputs": [],
   "source": [
    "# solution for question 2:\n",
    "l= int(input(\"enter\"))\n",
    "r= int(input(\"enter\"))\n",
    "k= int(input(\"enter\"))\n",
    "count=0\n",
    "for i in range(l,r+1):\n",
    "    if(i%k==0):\n",
    "        count=count+1\n",
    "print(count)"
   ]
  },
  {
   "cell_type": "markdown",
   "metadata": {},
   "source": [
    "### Question-3: Word Frequency: need to print words with frequency from given sentence (string) in dictionary format"
   ]
  },
  {
   "cell_type": "code",
   "execution_count": 1,
   "metadata": {},
   "outputs": [
    {
     "name": "stdout",
     "output_type": "stream",
     "text": [
      "enter a string Reddi Manisha\n"
     ]
    },
    {
     "data": {
      "text/plain": [
       "{'': 1, 'Reddi': 1, 'Manisha': 1}"
      ]
     },
     "execution_count": 1,
     "metadata": {},
     "output_type": "execute_result"
    }
   ],
   "source": [
    "# solution for question 3:\n",
    "s = input(\"enter a string\")\n",
    "name = s.split(\" \")\n",
    "d={}\n",
    "for word in name:\n",
    "    d[word] = d.get (word,0)+1\n",
    "d"
   ]
  },
  {
   "cell_type": "code",
   "execution_count": null,
   "metadata": {},
   "outputs": [],
   "source": []
  }
 ],
 "metadata": {
  "kernelspec": {
   "display_name": "Python 3",
   "language": "python",
   "name": "python3"
  },
  "language_info": {
   "codemirror_mode": {
    "name": "ipython",
    "version": 3
   },
   "file_extension": ".py",
   "mimetype": "text/x-python",
   "name": "python",
   "nbconvert_exporter": "python",
   "pygments_lexer": "ipython3",
   "version": "3.7.3"
  }
 },
 "nbformat": 4,
 "nbformat_minor": 2
}
