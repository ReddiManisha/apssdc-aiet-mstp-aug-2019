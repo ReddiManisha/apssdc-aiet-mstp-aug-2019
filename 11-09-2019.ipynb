{
 "cells": [
  {
   "cell_type": "markdown",
   "metadata": {},
   "source": [
    "## Dictionaries\n",
    "   ### is an unordered set of key and value pair it is container that contains data enclosed with curly braces.The pair i.e keys and values is known as item. "
   ]
  },
  {
   "cell_type": "code",
   "execution_count": 1,
   "metadata": {},
   "outputs": [
    {
     "name": "stdout",
     "output_type": "stream",
     "text": [
      "{1: 'python', 2: 'c', 3: 'java', 'd': 'android'}\n"
     ]
    }
   ],
   "source": [
    "dict = {1:'python',2:'c',3:'java','d':'android'}\n",
    "print(dict)"
   ]
  },
  {
   "cell_type": "code",
   "execution_count": 3,
   "metadata": {},
   "outputs": [
    {
     "name": "stdout",
     "output_type": "stream",
     "text": [
      "c\n",
      "python\n",
      "c\n",
      "java\n",
      "android\n"
     ]
    }
   ],
   "source": [
    "# Accessing Dictionaries values\n",
    "print(dict[2])\n",
    "for x in dict.keys():\n",
    "    print(dict[x])"
   ]
  },
  {
   "cell_type": "code",
   "execution_count": 4,
   "metadata": {},
   "outputs": [
    {
     "name": "stdout",
     "output_type": "stream",
     "text": [
      "dict_keys([1, 2, 3, 'd'])\n"
     ]
    }
   ],
   "source": [
    "dict = {1:'python',2:'c',3:'java','d':'android'}\n",
    "print(dict.keys())"
   ]
  },
  {
   "cell_type": "code",
   "execution_count": 6,
   "metadata": {},
   "outputs": [
    {
     "name": "stdout",
     "output_type": "stream",
     "text": [
      "{1: 'python', 2: 'c', 3: 'java', 'd': 'android', 4: 'PHP', 5: 'c#'}\n"
     ]
    }
   ],
   "source": [
    "# Updating the dictionary elements\n",
    "dict[4]='PHP'\n",
    "dict[5]='c#'\n",
    "print(dict)"
   ]
  },
  {
   "cell_type": "code",
   "execution_count": 7,
   "metadata": {},
   "outputs": [
    {
     "name": "stdout",
     "output_type": "stream",
     "text": [
      "{1: 'python', 2: 'c', 'd': 'android', 4: 'PHP', 5: 'c#'}\n"
     ]
    }
   ],
   "source": [
    "# Deleting Dictionary Elements\n",
    "del dict[3]\n",
    "print(dict)"
   ]
  },
  {
   "cell_type": "code",
   "execution_count": 8,
   "metadata": {},
   "outputs": [
    {
     "name": "stdout",
     "output_type": "stream",
     "text": [
      "{}\n"
     ]
    }
   ],
   "source": [
    "dict = {1:'python',2:'c',3:'java','d':'android'}\n",
    "dict.clear()\n",
    "print(dict)"
   ]
  },
  {
   "cell_type": "code",
   "execution_count": 9,
   "metadata": {},
   "outputs": [
    {
     "data": {
      "text/plain": [
       "['__class__',\n",
       " '__contains__',\n",
       " '__delattr__',\n",
       " '__delitem__',\n",
       " '__dir__',\n",
       " '__doc__',\n",
       " '__eq__',\n",
       " '__format__',\n",
       " '__ge__',\n",
       " '__getattribute__',\n",
       " '__getitem__',\n",
       " '__gt__',\n",
       " '__hash__',\n",
       " '__init__',\n",
       " '__init_subclass__',\n",
       " '__iter__',\n",
       " '__le__',\n",
       " '__len__',\n",
       " '__lt__',\n",
       " '__ne__',\n",
       " '__new__',\n",
       " '__reduce__',\n",
       " '__reduce_ex__',\n",
       " '__repr__',\n",
       " '__setattr__',\n",
       " '__setitem__',\n",
       " '__sizeof__',\n",
       " '__str__',\n",
       " '__subclasshook__',\n",
       " 'clear',\n",
       " 'copy',\n",
       " 'fromkeys',\n",
       " 'get',\n",
       " 'items',\n",
       " 'keys',\n",
       " 'pop',\n",
       " 'popitem',\n",
       " 'setdefault',\n",
       " 'update',\n",
       " 'values']"
      ]
     },
     "execution_count": 9,
     "metadata": {},
     "output_type": "execute_result"
    }
   ],
   "source": [
    "dir(dict)"
   ]
  },
  {
   "cell_type": "code",
   "execution_count": 10,
   "metadata": {},
   "outputs": [
    {
     "name": "stdout",
     "output_type": "stream",
     "text": [
      "4\n"
     ]
    }
   ],
   "source": [
    "# len()\n",
    "dict = {1:'python',2:'c',3:'java','d':'android'}\n",
    "print(len(dict))"
   ]
  },
  {
   "cell_type": "code",
   "execution_count": 15,
   "metadata": {},
   "outputs": [
    {
     "name": "stdout",
     "output_type": "stream",
     "text": [
      "{1: 'python', 2: 'c', 3: 'java', 'd': 'android', 4: 192}\n"
     ]
    }
   ],
   "source": [
    "# str(dict)\n",
    "dict = {1:'python',2:'c',3:'java','d':'android',4:192}\n",
    "print(str(dict))"
   ]
  },
  {
   "cell_type": "code",
   "execution_count": 13,
   "metadata": {},
   "outputs": [
    {
     "name": "stdout",
     "output_type": "stream",
     "text": [
      "<class 'dict'>\n"
     ]
    }
   ],
   "source": [
    "# type()\n",
    "dict = {1:'python',2:'c',3:'java','d':'android'}\n",
    "print(type(dict))"
   ]
  },
  {
   "cell_type": "code",
   "execution_count": 14,
   "metadata": {},
   "outputs": [
    {
     "name": "stdout",
     "output_type": "stream",
     "text": [
      "{1: 'python', 2: 'c', 3: 'java', 'd': 'android'}\n"
     ]
    }
   ],
   "source": [
    "# copy()\n",
    "dict1 = {1:'python',2:'c',3:'java','d':'android'}\n",
    "dict2 = dict1.copy()\n",
    "print(dict2)"
   ]
  },
  {
   "cell_type": "code",
   "execution_count": 18,
   "metadata": {},
   "outputs": [
    {
     "name": "stdout",
     "output_type": "stream",
     "text": [
      "New Dict : {'java': None, 'android': None, 'c++': None}\n",
      "New Dictionary : {'java': 100, 'android': 100, 'c++': 100}\n"
     ]
    }
   ],
   "source": [
    "# fromkey()-- The method from keys() creates a new dictionary with keys from sequence and valiues set to a value.\n",
    "seq = ('java','android','c++')\n",
    "dict = dict.fromkeys(seq)\n",
    "print(\"New Dict : %s\" % str(dict))\n",
    "dict = dict.fromkeys(seq,100)\n",
    "print(\"New Dictionary : %s\" % str(dict))"
   ]
  },
  {
   "cell_type": "code",
   "execution_count": 22,
   "metadata": {},
   "outputs": [
    {
     "name": "stdout",
     "output_type": "stream",
     "text": [
      "{1: 'MSTP', 2: 'c', 3: 'java', 'd': 'android', 5: 'Digital Tools'}\n"
     ]
    }
   ],
   "source": [
    "# dict1.update(dict2)\n",
    "dict1 = {1:'python',2:'c',3:'java','d':'android'}\n",
    "dict2 = {1:'MSTP',5:'Digital Tools'}\n",
    "dict1.update(dict2)\n",
    "print(dict1)"
   ]
  },
  {
   "cell_type": "code",
   "execution_count": 24,
   "metadata": {},
   "outputs": [
    {
     "name": "stdout",
     "output_type": "stream",
     "text": [
      "dict_values(['python', 'c', 'java', 'android'])\n"
     ]
    }
   ],
   "source": [
    "#Value()\n",
    "dict1 = {1:'python',2:'c',3:'java','d':'android'}\n",
    "values =dict1.values() \n",
    "print(values)"
   ]
  },
  {
   "cell_type": "code",
   "execution_count": 28,
   "metadata": {},
   "outputs": [
    {
     "name": "stdout",
     "output_type": "stream",
     "text": [
      "swamy\n",
      "APSSDC\n"
     ]
    }
   ],
   "source": [
    "#dict.setdefault(key,default=none)\n",
    "#dict[key]=default if key not already in dict \n",
    "#key - searched\n",
    "#default - returned in case key is not found\n",
    "dict = {'emp_name':'swamy','age':21,'emp_id':101}\n",
    "dict.setdefault('company','APSSDC')\n",
    "print(dict ['emp_name'])\n",
    "print(dict['company'])"
   ]
  },
  {
   "cell_type": "code",
   "execution_count": 32,
   "metadata": {},
   "outputs": [
    {
     "name": "stdout",
     "output_type": "stream",
     "text": [
      "{1: 'a', 2: 'b', 3: 'c', 4: 'd', 5: 'e'}\n"
     ]
    }
   ],
   "source": [
    "# How to create a dictionary from two lists\n",
    "a = [1,2,3,4,5]\n",
    "b = ['a','b','c','d','e']\n",
    "c = {}\n",
    "for i in range(len(a)):\n",
    "    c[a[i]] = b[i]\n",
    "print(c)"
   ]
  },
  {
   "cell_type": "code",
   "execution_count": 33,
   "metadata": {},
   "outputs": [],
   "source": [
    "# Dictionary is Mutable \n",
    "# key must be unique and immutable value is accessed by key.Value can updated while key cannot be changed.\n",
    "# Dictionary is known as Associative Array since the key works as index and they are decided by the user."
   ]
  },
  {
   "cell_type": "markdown",
   "metadata": {},
   "source": [
    "## modules"
   ]
  },
  {
   "cell_type": "markdown",
   "metadata": {},
   "source": [
    "- module is nothing but python file \n",
    "- it may contains attributes classes and methods\n",
    "- we can use import keyword to import required modules in current file"
   ]
  },
  {
   "cell_type": "code",
   "execution_count": 37,
   "metadata": {},
   "outputs": [],
   "source": [
    "import math"
   ]
  },
  {
   "cell_type": "code",
   "execution_count": 38,
   "metadata": {},
   "outputs": [
    {
     "data": {
      "text/plain": [
       "3.141592653589793"
      ]
     },
     "execution_count": 38,
     "metadata": {},
     "output_type": "execute_result"
    }
   ],
   "source": [
    "math.pi"
   ]
  },
  {
   "cell_type": "code",
   "execution_count": 39,
   "metadata": {},
   "outputs": [
    {
     "data": {
      "text/plain": [
       "2.718281828459045"
      ]
     },
     "execution_count": 39,
     "metadata": {},
     "output_type": "execute_result"
    }
   ],
   "source": [
    "math.e"
   ]
  },
  {
   "cell_type": "code",
   "execution_count": 40,
   "metadata": {},
   "outputs": [
    {
     "data": {
      "text/plain": [
       "2.0"
      ]
     },
     "execution_count": 40,
     "metadata": {},
     "output_type": "execute_result"
    }
   ],
   "source": [
    "math.sqrt(4)"
   ]
  },
  {
   "cell_type": "code",
   "execution_count": 41,
   "metadata": {},
   "outputs": [
    {
     "data": {
      "text/plain": [
       "36.0"
      ]
     },
     "execution_count": 41,
     "metadata": {},
     "output_type": "execute_result"
    }
   ],
   "source": [
    "math.pow(6,2)"
   ]
  },
  {
   "cell_type": "code",
   "execution_count": 42,
   "metadata": {},
   "outputs": [
    {
     "data": {
      "text/plain": [
       "2"
      ]
     },
     "execution_count": 42,
     "metadata": {},
     "output_type": "execute_result"
    }
   ],
   "source": [
    "math.floor(2.45367)"
   ]
  },
  {
   "cell_type": "code",
   "execution_count": 43,
   "metadata": {},
   "outputs": [
    {
     "data": {
      "text/plain": [
       "5"
      ]
     },
     "execution_count": 43,
     "metadata": {},
     "output_type": "execute_result"
    }
   ],
   "source": [
    "math.ceil(4.31)"
   ]
  },
  {
   "cell_type": "code",
   "execution_count": 44,
   "metadata": {},
   "outputs": [
    {
     "data": {
      "text/plain": [
       "24"
      ]
     },
     "execution_count": 44,
     "metadata": {},
     "output_type": "execute_result"
    }
   ],
   "source": [
    "math.factorial(4)"
   ]
  },
  {
   "cell_type": "code",
   "execution_count": null,
   "metadata": {},
   "outputs": [
    {
     "name": "stdout",
     "output_type": "stream",
     "text": [
      "\n",
      "Welcome to Python 3.7's help utility!\n",
      "\n",
      "If this is your first time using Python, you should definitely check out\n",
      "the tutorial on the Internet at https://docs.python.org/3.7/tutorial/.\n",
      "\n",
      "Enter the name of any module, keyword, or topic to get help on writing\n",
      "Python programs and using Python modules.  To quit this help utility and\n",
      "return to the interpreter, just type \"quit\".\n",
      "\n",
      "To get a list of available modules, keywords, symbols, or topics, type\n",
      "\"modules\", \"keywords\", \"symbols\", or \"topics\".  Each module also comes\n",
      "with a one-line summary of what it does; to list the modules whose name\n",
      "or summary contain a given string such as \"spam\", type \"modules spam\".\n",
      "\n",
      "help> modules\n",
      "\n",
      "Please wait a moment while I gather a list of all available modules...\n",
      "\n"
     ]
    },
    {
     "name": "stderr",
     "output_type": "stream",
     "text": [
      "C:\\Users\\cmsec\\Anaconda3\\lib\\site-packages\\IPython\\kernel\\__init__.py:13: ShimWarning: The `IPython.kernel` package has been deprecated since IPython 4.0.You should import from ipykernel or jupyter_client instead.\n",
      "  \"You should import from ipykernel or jupyter_client instead.\", ShimWarning)\n",
      "WARNING: AstropyDeprecationWarning: astropy.utils.compat.futures is now deprecated - use concurrent.futures instead [astropy.utils.compat.futures]\n",
      "C:\\Users\\cmsec\\Anaconda3\\lib\\site-packages\\nltk\\twitter\\__init__.py:22: UserWarning: The twython library has not been installed. Some functionality from the twitter package will not be available.\n",
      "  \"The twython library has not been installed. \"\n"
     ]
    },
    {
     "name": "stdout",
     "output_type": "stream",
     "text": [
      "DEBUG:pip._internal.vcs:Registered VCS backend: git\n",
      "DEBUG:pip._internal.vcs:Registered VCS backend: hg\n",
      "DEBUG:pip._internal.vcs:Registered VCS backend: svn\n",
      "DEBUG:pip._internal.vcs:Registered VCS backend: bzr\n"
     ]
    },
    {
     "name": "stderr",
     "output_type": "stream",
     "text": [
      "C:\\Users\\cmsec\\Anaconda3\\lib\\site-packages\\skimage\\novice\\__init__.py:103: UserWarning: The `skimage.novice` module was deprecated in version 0.14. It will be removed in 0.16.\n",
      "  warnings.warn(\"The `skimage.novice` module was deprecated in version 0.14. \"\n",
      "C:\\Users\\cmsec\\Anaconda3\\lib\\site-packages\\skimage\\viewer\\utils\\core.py:10: UserWarning: Recommended matplotlib backend is `Agg` for full skimage.viewer functionality.\n",
      "  warn(\"Recommended matplotlib backend is `Agg` for full \"\n",
      "C:\\Users\\cmsec\\Anaconda3\\lib\\site-packages\\sklearn\\externals\\joblib\\__init__.py:15: DeprecationWarning: sklearn.externals.joblib is deprecated in 0.21 and will be removed in 0.23. Please import this functionality directly from joblib, which can be installed with: pip install joblib. If this warning is raised when loading pickled models, you may need to re-serialize those models with scikit-learn 0.21+.\n",
      "  warnings.warn(msg, category=DeprecationWarning)\n",
      "C:\\Users\\cmsec\\Anaconda3\\lib\\site-packages\\qtawesome\\iconic_font.py:276: UserWarning: You need to have a running QApplication to use QtAwesome!\n",
      "  warnings.warn(\"You need to have a running \"\n",
      "C:\\Users\\cmsec\\Anaconda3\\lib\\pkgutil.py:107: VisibleDeprecationWarning: zmq.eventloop.minitornado is deprecated in pyzmq 14.0 and will be removed.\n",
      "    Install tornado itself to use zmq with the tornado IOLoop.\n",
      "    \n",
      "  yield from walk_packages(path, info.name+'.', onerror)\n"
     ]
    },
    {
     "name": "stdout",
     "output_type": "stream",
     "text": [
      "Crypto              builtins            menuinst            sockshandler\n",
      "Cython              bz2                 mimetypes           sortedcollections\n",
      "IPython             cProfile            mistune             sortedcontainers\n",
      "OpenSSL             calendar            mkl                 soupsieve\n",
      "PIL                 certifi             mkl_fft             sphinx\n",
      "PyQt5               cffi                mkl_random          sphinxcontrib\n",
      "__future__          cgi                 mmap                spyder\n",
      "_abc                cgitb               mmapfile            spyder_breakpoints\n",
      "_ast                chardet             mmsystem            spyder_io_dcm\n",
      "_asyncio            chunk               mock                spyder_io_hdf5\n",
      "_bisect             click               modulefinder        spyder_kernels\n",
      "_blake2             cloudpickle         more_itertools      spyder_profiler\n",
      "_bootlocale         clyent              mpmath              spyder_pylint\n",
      "_bz2                cmath               msgpack             sqlalchemy\n",
      "_cffi_backend       cmd                 msilib              sqlite3\n",
      "_codecs             code                msvcrt              sre_compile\n",
      "_codecs_cn          codecs              multipledispatch    sre_constants\n",
      "_codecs_hk          codeop              multiprocessing     sre_parse\n",
      "_codecs_iso2022     collections         navigator_updater   ssl\n",
      "_codecs_jp          colorama            nbconvert           sspi\n",
      "_codecs_kr          colorsys            nbformat            sspicon\n",
      "_codecs_tw          commctrl            netbios             stat\n",
      "_collections        compileall          netrc               statistics\n",
      "_collections_abc    comtypes            networkx            statsmodels\n",
      "_compat_pickle      concurrent          nltk                storemagic\n",
      "_compression        conda               nntplib             string\n",
      "_contextvars        conda_build         nose                stringprep\n",
      "_csv                conda_env           notebook            struct\n",
      "_ctypes             conda_package_handling nt                  subprocess\n",
      "_ctypes_test        conda_verify        ntpath              sunau\n",
      "_datetime           configparser        ntsecuritycon       symbol\n",
      "_decimal            contextlib          nturl2path          sympy\n",
      "_dummy_thread       contextlib2         numba               sympyprinting\n",
      "_elementtree        contextvars         numbers             symtable\n",
      "_functools          copy                numexpr             sys\n",
      "_hashlib            copyreg             numpy               sysconfig\n",
      "_heapq              crypt               numpydoc            tables\n",
      "_imp                cryptography        odbc                tabnanny\n",
      "_io                 csv                 olefile             tarfile\n",
      "_json               ctypes              opcode              tblib\n",
      "_locale             curl                openpyxl            telnetlib\n",
      "_lsprof             curses              operator            tempfile\n",
      "_lzma               cwp                 optparse            terminado\n",
      "_markupbase         cycler              os                  test\n",
      "_md5                cython              packaging           test_data\n",
      "_msi                cythonmagic         pandas              test_pycosat\n",
      "_multibytecodec     cytoolz             pandocfilters       testpath\n",
      "_multiprocessing    dask                parser              tests\n",
      "_nsis               dataclasses         parso               textwrap\n",
      "_opcode             datetime            partd               this\n",
      "_operator           dateutil            past                threading\n",
      "_osx_support        dbi                 path                time\n",
      "_overlapped         dbm                 pathlib             timeit\n",
      "_pickle             dde                 pathlib2            timer\n",
      "_py_abc             decimal             patsy               tkinter\n",
      "_pydecimal          decorator           pdb                 tlz\n",
      "_pyio               defusedxml          pep8                token\n",
      "_pylief             difflib             perfmon             tokenize\n",
      "_pyrsistent_version dis                 pickle              toolz\n",
      "_pytest             distributed         pickleshare         tornado\n",
      "_queue              distutils           pickletools         tqdm\n",
      "_random             doctest             pip                 trace\n",
      "_sha1               docutils            pipes               traceback\n",
      "_sha256             dummy_threading     pkg_resources       tracemalloc\n",
      "_sha3               easy_install        pkginfo             traitlets\n",
      "_sha512             email               pkgutil             tty\n",
      "_signal             encodings           platform            turtle\n",
      "_sitebuiltins       ensurepip           plistlib            turtledemo\n",
      "_socket             entrypoints         pluggy              types\n",
      "_sqlite3            enum                ply                 typing\n",
      "_sre                errno               poplib              unicodecsv\n",
      "_ssl                et_xmlfile          posixpath           unicodedata\n",
      "_stat               fastcache           pprint              unittest\n",
      "_string             faulthandler        profile             urllib\n",
      "_strptime           filecmp             prometheus_client   urllib3\n",
      "_struct             fileinput           prompt_toolkit      uu\n",
      "_symtable           filelock            pstats              uuid\n",
      "_system_path        flask               psutil              venv\n",
      "_testbuffer         fnmatch             pty                 warnings\n",
      "_testcapi           formatter           pvectorc            wave\n",
      "_testconsole        fractions           py                  wcwidth\n",
      "_testimportmultiple ftplib              py_compile          weakref\n",
      "_testmultiphase     functools           pyclbr              webbrowser\n",
      "_thread             future              pycodestyle         webencodings\n",
      "_threading_local    gc                  pycosat             werkzeug\n",
      "_tkinter            genericpath         pycparser           wheel\n",
      "_tracemalloc        getopt              pycurl              widgetsnbextension\n",
      "_warnings           getpass             pydoc               win2kras\n",
      "_weakref            gettext             pydoc_data          win32api\n",
      "_weakrefset         gevent              pyexpat             win32clipboard\n",
      "_win32sysloader     glob                pyflakes            win32com\n",
      "_winapi             glob2               pygments            win32con\n",
      "_winxptheme         greenlet            pylab               win32console\n",
      "_yaml               gzip                pylint              win32cred\n",
      "abc                 h5py                pyodbc              win32crypt\n",
      "adodbapi            hashlib             pyparsing           win32cryptcon\n",
      "afxres              heapdict            pyreadline          win32event\n",
      "aifc                heapq               pyrsistent          win32evtlog\n",
      "alabaster           hmac                pytest              win32evtlogutil\n",
      "anaconda_navigator  html                pytest_arraydiff    win32file\n",
      "anaconda_project    html5lib            pytest_doctestplus  win32gui\n",
      "antigravity         http                pytest_openfiles    win32gui_struct\n",
      "argparse            idlelib             pytest_remotedata   win32help\n",
      "array               idna                pythoncom           win32inet\n",
      "asn1crypto          imageio             pytz                win32inetcon\n",
      "ast                 imagesize           pywin               win32job\n",
      "astroid             imaplib             pywin32_testutil    win32lz\n",
      "astropy             imghdr              pywintypes          win32net\n",
      "asynchat            imp                 pywt                win32netcon\n",
      "asyncio             importlib           pyximport           win32pdh\n",
      "asyncore            importlib_metadata  qtawesome           win32pdhquery\n",
      "atexit              inspect             qtconsole           win32pdhutil\n",
      "atomicwrites        io                  qtpy                win32pipe\n",
      "attr                ipaddress           queue               win32print\n",
      "audioop             ipykernel           quopri              win32process\n",
      "autoreload          ipykernel_launcher  random              win32profile\n",
      "babel               ipython_genutils    rasutil             win32ras\n",
      "backcall            ipywidgets          re                  win32rcparser\n",
      "backports           isapi               readline            win32security\n",
      "base64              isort               regcheck            win32service\n",
      "bdb                 isympy              regutil             win32serviceutil\n",
      "binascii            itertools           reprlib             win32timezone\n",
      "binhex              itsdangerous        requests            win32trace\n",
      "binstar_client      jdcal               rlcompleter         win32traceutil\n",
      "bisect              jedi                rmagic              win32transaction\n",
      "bitarray            jinja2              rope                win32ts\n",
      "bkcharts            joblib              ruamel_yaml         win32ui\n",
      "bleach              json                run                 win32uiole\n",
      "bokeh               json5               runpy               win32verstamp\n",
      "boto                jsonschema          sched               win32wnet\n",
      "bottleneck          jupyter             scipy               win_inet_pton\n",
      "brain_argparse      jupyter_client      scripts             win_unicode_console\n",
      "brain_attrs         jupyter_console     seaborn             wincertstore\n",
      "brain_builtin_inference jupyter_core        secrets             winerror\n",
      "brain_collections   jupyterlab          select              winioctlcon\n",
      "brain_curses        jupyterlab_server   selectors           winnt\n",
      "brain_dateutil      keyring             send2trash          winperf\n",
      "brain_fstrings      keyword             servicemanager      winpty\n",
      "brain_functools     kiwisolver          setuptools          winreg\n",
      "brain_gi            lazy_object_proxy   shelve              winsound\n",
      "brain_hashlib       lib2to3             shlex               winxpgui\n",
      "brain_http          libarchive          shutil              winxptheme\n",
      "brain_io            libfuturize         signal              wrapt\n",
      "brain_mechanize     libpasteurize       simplegeneric       wsgiref\n",
      "brain_multiprocessing lief                singledispatch      xdrlib\n",
      "brain_namedtuple_enum linecache           singledispatch_helpers xlrd\n",
      "brain_nose          llvmlite            sip                 xlsxwriter\n",
      "brain_numpy         locale              sipconfig           xlwings\n",
      "brain_pkg_resources locket              sipdistutils        xlwt\n",
      "brain_pytest        logging             site                xml\n",
      "brain_qt            lxml                six                 xmlrpc\n",
      "brain_random        lzma                skimage             xxsubtype\n",
      "brain_re            macpath             sklearn             yaml\n",
      "brain_six           mailbox             smtpd               zict\n",
      "brain_ssl           mailcap             smtplib             zipapp\n",
      "brain_subprocess    markupsafe          sndhdr              zipfile\n",
      "brain_threading     marshal             snowballstemmer     zipimport\n",
      "brain_typing        math                socket              zipp\n",
      "brain_uuid          matplotlib          socketserver        zlib\n",
      "bs4                 mccabe              socks               zmq\n",
      "\n",
      "Enter any module name to get more help.  Or, type \"modules spam\" to search\n",
      "for modules whose name or summary contain the string \"spam\".\n",
      "\n"
     ]
    }
   ],
   "source": [
    "help()"
   ]
  },
  {
   "cell_type": "code",
   "execution_count": 5,
   "metadata": {},
   "outputs": [],
   "source": [
    "import webbrowser\n",
    "import time\n",
    "fav_sites=[\"www.google.com\",\"youtube.com\",\"engineering.apssdc.in\"]\n",
    "for url in fav_sites:\n",
    "    webbrowser.open(url)\n",
    "    time.sleep(5)"
   ]
  },
  {
   "cell_type": "code",
   "execution_count": 3,
   "metadata": {},
   "outputs": [
    {
     "data": {
      "text/plain": [
       "5"
      ]
     },
     "execution_count": 3,
     "metadata": {},
     "output_type": "execute_result"
    }
   ],
   "source": [
    "import basic_operations\n",
    "basic_operations.add(2,3)"
   ]
  },
  {
   "cell_type": "code",
   "execution_count": 4,
   "metadata": {},
   "outputs": [
    {
     "data": {
      "text/plain": [
       "5"
      ]
     },
     "execution_count": 4,
     "metadata": {},
     "output_type": "execute_result"
    }
   ],
   "source": [
    "import basic_operations as bo\n",
    "bo.sub(10,5)"
   ]
  },
  {
   "cell_type": "code",
   "execution_count": 25,
   "metadata": {},
   "outputs": [
    {
     "ename": "ModuleNotFoundError",
     "evalue": "No module named 'advanced_operations'",
     "output_type": "error",
     "traceback": [
      "\u001b[1;31m---------------------------------------------------------------------------\u001b[0m",
      "\u001b[1;31mModuleNotFoundError\u001b[0m                       Traceback (most recent call last)",
      "\u001b[1;32m<ipython-input-25-749af6c751f7>\u001b[0m in \u001b[0;36m<module>\u001b[1;34m\u001b[0m\n\u001b[1;32m----> 1\u001b[1;33m \u001b[1;32mimport\u001b[0m \u001b[0madvanced_operations\u001b[0m \u001b[1;32mas\u001b[0m \u001b[0mao\u001b[0m\u001b[1;33m\u001b[0m\u001b[1;33m\u001b[0m\u001b[0m\n\u001b[0m\u001b[0;32m      2\u001b[0m \u001b[0mao\u001b[0m\u001b[1;33m.\u001b[0m\u001b[0misprime\u001b[0m\u001b[1;33m(\u001b[0m\u001b[1;36m7\u001b[0m\u001b[1;33m)\u001b[0m\u001b[1;33m\u001b[0m\u001b[1;33m\u001b[0m\u001b[0m\n",
      "\u001b[1;31mModuleNotFoundError\u001b[0m: No module named 'advanced_operations'"
     ]
    }
   ],
   "source": [
    "import advanced_operations as ao\n",
    "ao.isprime(7)"
   ]
  },
  {
   "cell_type": "code",
   "execution_count": 17,
   "metadata": {},
   "outputs": [
    {
     "data": {
      "text/plain": [
       "5"
      ]
     },
     "execution_count": 17,
     "metadata": {},
     "output_type": "execute_result"
    }
   ],
   "source": [
    "import mypackage.basic_operations as bo\n",
    "bo.add(2,3)"
   ]
  },
  {
   "cell_type": "code",
   "execution_count": 23,
   "metadata": {},
   "outputs": [
    {
     "ename": "IndentationError",
     "evalue": "unexpected indent (advanced_operations.py, line 1)",
     "output_type": "error",
     "traceback": [
      "Traceback \u001b[1;36m(most recent call last)\u001b[0m:\n",
      "  File \u001b[0;32m\"C:\\Users\\cmsec\\Anaconda3\\lib\\site-packages\\IPython\\core\\interactiveshell.py\"\u001b[0m, line \u001b[0;32m3325\u001b[0m, in \u001b[0;35mrun_code\u001b[0m\n    exec(code_obj, self.user_global_ns, self.user_ns)\n",
      "\u001b[1;36m  File \u001b[1;32m\"<ipython-input-23-9e8edeab36e2>\"\u001b[1;36m, line \u001b[1;32m1\u001b[1;36m, in \u001b[1;35m<module>\u001b[1;36m\u001b[0m\n\u001b[1;33m    import mypackage.advanced_operations as ao\u001b[0m\n",
      "\u001b[1;36m  File \u001b[1;32m\"C:\\Users\\cmsec\\Desktop\\level-2\\mypackage\\advanced_operations.py\"\u001b[1;36m, line \u001b[1;32m1\u001b[0m\n\u001b[1;33m    def isprime(num) :\u001b[0m\n\u001b[1;37m    ^\u001b[0m\n\u001b[1;31mIndentationError\u001b[0m\u001b[1;31m:\u001b[0m unexpected indent\n"
     ]
    }
   ],
   "source": [
    "import mypackage.advanced_operations as ao\n",
    "ao.isprime(7)"
   ]
  },
  {
   "cell_type": "code",
   "execution_count": 24,
   "metadata": {},
   "outputs": [
    {
     "data": {
      "text/plain": [
       "{'h': 1, 'e': 1, 'l': 3, 'o': 2, ' ': 1, 'w': 1, 'r': 1, 'd': 1, '!': 1}"
      ]
     },
     "execution_count": 24,
     "metadata": {},
     "output_type": "execute_result"
    }
   ],
   "source": [
    "s = \"hello world!\"\n",
    "d={}\n",
    "for char in s:\n",
    "    d[char] = d.get (char,0)+1\n",
    "d"
   ]
  },
  {
   "cell_type": "code",
   "execution_count": null,
   "metadata": {},
   "outputs": [],
   "source": []
  }
 ],
 "metadata": {
  "kernelspec": {
   "display_name": "Python 3",
   "language": "python",
   "name": "python3"
  },
  "language_info": {
   "codemirror_mode": {
    "name": "ipython",
    "version": 3
   },
   "file_extension": ".py",
   "mimetype": "text/x-python",
   "name": "python",
   "nbconvert_exporter": "python",
   "pygments_lexer": "ipython3",
   "version": "3.7.3"
  }
 },
 "nbformat": 4,
 "nbformat_minor": 2
}
